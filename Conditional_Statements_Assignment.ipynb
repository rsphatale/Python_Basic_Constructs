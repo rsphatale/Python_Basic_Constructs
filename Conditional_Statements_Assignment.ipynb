{
  "nbformat": 4,
  "nbformat_minor": 0,
  "metadata": {
    "colab": {
      "name": "Conditional Statements Assignment.ipynb",
      "provenance": [],
      "collapsed_sections": []
    },
    "kernelspec": {
      "name": "python3",
      "display_name": "Python 3"
    },
    "language_info": {
      "name": "python"
    }
  },
  "cells": [
    {
      "cell_type": "code",
      "source": [
        "a = input('Enter the value of a: ')\n",
        "b = input('Enter the value of b: ')\n",
        "c = input('Enter the value of c: ')\n",
        "if (a>b and a>c):\n",
        "  print(\"'a' is greater than 'b' and 'c'\")\n",
        "elif (b>a and b>c):\n",
        "  print(\"'b' is greater than 'a' and 'c'\")\n",
        "elif (c>a and c>b):\n",
        "  print(\"'c' is greater than 'a' and 'b'\")\n",
        "elif (a==b==c):\n",
        "  print('All three values are equal.')\n",
        "else:\n",
        "  print('Either of the three two values are equal.')"
      ],
      "metadata": {
        "colab": {
          "base_uri": "https://localhost:8080/"
        },
        "id": "PtWcnRhjf8Og",
        "outputId": "15ab8ab6-eed4-4188-8b69-8778763b5d8b"
      },
      "execution_count": 8,
      "outputs": [
        {
          "output_type": "stream",
          "name": "stdout",
          "text": [
            "Enter the value of a: 10\n",
            "Enter the value of b: 20\n",
            "Enter the value of c: 20\n",
            "Either of the three two values are equal.\n"
          ]
        }
      ]
    },
    {
      "cell_type": "code",
      "source": [
        ""
      ],
      "metadata": {
        "id": "R93w11h6haG2"
      },
      "execution_count": 7,
      "outputs": []
    }
  ]
}