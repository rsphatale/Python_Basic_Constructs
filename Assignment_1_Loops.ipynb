{
  "nbformat": 4,
  "nbformat_minor": 0,
  "metadata": {
    "colab": {
      "name": "Assignment_1_Loops.ipynb",
      "provenance": [],
      "collapsed_sections": []
    },
    "kernelspec": {
      "name": "python3",
      "display_name": "Python 3"
    },
    "language_info": {
      "name": "python"
    }
  },
  "cells": [
    {
      "cell_type": "markdown",
      "source": [
        "Print the numbers from 1 to 10 using a while loop"
      ],
      "metadata": {
        "id": "04z70VY8euTR"
      }
    },
    {
      "cell_type": "code",
      "execution_count": 3,
      "metadata": {
        "colab": {
          "base_uri": "https://localhost:8080/"
        },
        "id": "FqBrOSkkeklZ",
        "outputId": "ef42b8bf-19cd-4405-9ac1-b7e9819731ef"
      },
      "outputs": [
        {
          "output_type": "stream",
          "name": "stdout",
          "text": [
            "1 2 3 4 5 6 7 8 9 10 "
          ]
        }
      ],
      "source": [
        "n = 1\n",
        "while (n < 11):\n",
        "  print(n, end= ' ')\n",
        "  n = n + 1"
      ]
    },
    {
      "cell_type": "code",
      "source": [
        ""
      ],
      "metadata": {
        "id": "XPqADOjMqmLQ"
      },
      "execution_count": 2,
      "outputs": []
    }
  ]
}