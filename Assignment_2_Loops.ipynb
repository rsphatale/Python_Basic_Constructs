{
  "nbformat": 4,
  "nbformat_minor": 0,
  "metadata": {
    "colab": {
      "name": "Assignment_2_Loops.ipynb",
      "provenance": [],
      "collapsed_sections": []
    },
    "kernelspec": {
      "name": "python3",
      "display_name": "Python 3"
    },
    "language_info": {
      "name": "python"
    }
  },
  "cells": [
    {
      "cell_type": "code",
      "source": [
        "my_list = [10,23,4,26,4,75,24,54]\n",
        "x = 0\n",
        "while x < len(my_list):\n",
        "  if my_list[x] % 2 == 0:\n",
        "    print(my_list[x], end = ' ')\n",
        "  x += 1"
      ],
      "metadata": {
        "colab": {
          "base_uri": "https://localhost:8080/"
        },
        "id": "XPqADOjMqmLQ",
        "outputId": "a64ca4fc-fc13-4a44-f6d4-d0a544ea69d8"
      },
      "execution_count": 1,
      "outputs": [
        {
          "output_type": "stream",
          "name": "stdout",
          "text": [
            "10 4 26 4 24 54 "
          ]
        }
      ]
    },
    {
      "cell_type": "code",
      "source": [
        ""
      ],
      "metadata": {
        "id": "_2Fi-Yykw-7P"
      },
      "execution_count": null,
      "outputs": []
    }
  ]
}