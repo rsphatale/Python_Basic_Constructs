{
  "cells": [
    {
      "cell_type": "code",
      "execution_count": 5,
      "id": "746b72e9",
      "metadata": {
        "colab": {
          "base_uri": "https://localhost:8080/"
        },
        "id": "746b72e9",
        "outputId": "197a9a2b-bb19-48e2-aee7-07fd9abcbf69"
      },
      "outputs": [
        {
          "output_type": "stream",
          "name": "stdout",
          "text": [
            "5\n",
            "7\n",
            "10\n",
            "12\n",
            "13\n",
            "5,7,13,"
          ]
        }
      ],
      "source": [
        "my_list=[]\n",
        "for x in range (0,5):\n",
        "    m=int(input())\n",
        "    my_list.append(m)\n",
        "for index in range(0,len(my_list)):\n",
        "    num = my_list[index]\n",
        "    if num > 1:\n",
        "        for i in range(2,int(num/2)+1):\n",
        "            if (num % i) == 0:\n",
        "                break\n",
        "        else:\n",
        "            print(num, end= ',')"
      ]
    },
    {
      "cell_type": "code",
      "source": [
        ""
      ],
      "metadata": {
        "id": "CEpd8dxQ-_9z"
      },
      "id": "CEpd8dxQ-_9z",
      "execution_count": null,
      "outputs": []
    },
    {
      "cell_type": "code",
      "source": [
        ""
      ],
      "metadata": {
        "id": "C-iWXiYl_HkD"
      },
      "id": "C-iWXiYl_HkD",
      "execution_count": null,
      "outputs": []
    },
    {
      "cell_type": "code",
      "execution_count": 13,
      "id": "d9a1f818",
      "metadata": {
        "id": "d9a1f818"
      },
      "outputs": [],
      "source": [
        ""
      ]
    }
  ],
  "metadata": {
    "kernelspec": {
      "display_name": "Python 3 (ipykernel)",
      "language": "python",
      "name": "python3"
    },
    "language_info": {
      "codemirror_mode": {
        "name": "ipython",
        "version": 3
      },
      "file_extension": ".py",
      "mimetype": "text/x-python",
      "name": "python",
      "nbconvert_exporter": "python",
      "pygments_lexer": "ipython3",
      "version": "3.9.7"
    },
    "colab": {
      "name": "Assignment_3_Loops.ipynb",
      "provenance": [],
      "collapsed_sections": []
    }
  },
  "nbformat": 4,
  "nbformat_minor": 5
}